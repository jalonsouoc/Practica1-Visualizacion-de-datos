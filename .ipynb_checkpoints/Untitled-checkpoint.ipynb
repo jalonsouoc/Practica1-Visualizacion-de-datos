{
 "cells": [
  {
   "cell_type": "code",
   "execution_count": 29,
   "id": "32c7e083",
   "metadata": {},
   "outputs": [],
   "source": [
    "import pandas as pd\n",
    "from pandas import json_normalize\n",
    "import requests\n",
    "from urllib.request import urlopen\n",
    "import json"
   ]
  },
  {
   "cell_type": "code",
   "execution_count": 82,
   "id": "ccce4c23",
   "metadata": {},
   "outputs": [],
   "source": [
    "xlsx = pd.ExcelFile('indicadores_ods_canarias.xlsx')\n",
    "\n",
    "hoja1 = pd.read_excel(xlsx,'DATOS')\n",
    "\n",
    "areas = pd.read_excel(xlsx,'CL_AREA_ES', skiprows=8)\n",
    "series = pd.read_excel(xlsx,'CL_SERIES', skiprows=7)\n",
    "freq = pd.read_excel(xlsx,'CL_FREQ', skiprows=7)\n",
    "age = pd.read_excel(xlsx,'CL_AGE', skiprows=7)"
   ]
  },
  {
   "cell_type": "code",
   "execution_count": 83,
   "id": "e5a8953d",
   "metadata": {},
   "outputs": [
    {
     "name": "stdout",
     "output_type": "stream",
     "text": [
      "     _L_ES_010201_1A  \\\n",
      "0    _L_ES_010201_1B   \n",
      "1    _L_ES_010201_2A   \n",
      "2    _L_ES_010201_2B   \n",
      "3    _L_ES_010202_1A   \n",
      "4    _L_ES_010202_1B   \n",
      "..               ...   \n",
      "206    VC_HTF_DETVOP   \n",
      "207      SG_REG_BRTH   \n",
      "208  _L_ES_171802_01   \n",
      "209  _L_ES_171803_01   \n",
      "210  _L_ES_17192B_01   \n",
      "\n",
      "    Proporción de personas en riesgo de pobreza relativa, considerando el umbral nacional de pobreza  \\\n",
      "0    Proporción de personas en riesgo de pobreza re...                                                 \n",
      "1    Proporción de personas en riesgo de pobreza re...                                                 \n",
      "2    Proporción de personas en riesgo de pobreza re...                                                 \n",
      "3    Proporción de personas en riesgo de pobreza o ...                                                 \n",
      "4    Proporción de personas en riesgo de pobreza o ...                                                 \n",
      "..                                                 ...                                                 \n",
      "206  Número de víctimas detectadas de tráfico de pe...                                                 \n",
      "207  Proporción de menores de 5 años cuyo nacimient...                                                 \n",
      "208  La legislación autonómica sobre estadísticas c...                                                 \n",
      "209  Se dispone de un plan estadístico autonómico, ...                                                 \n",
      "210  Se ha registrado el 100% de los nacimientos y ...                                                 \n",
      "\n",
      "    Unnamed: 2    1.2.1.1    1.2.1  \\\n",
      "0          NaN  1.2.1.1_1    1.2.1   \n",
      "1          NaN    1.2.1.2    1.2.1   \n",
      "2          NaN  1.2.1.2_1    1.2.1   \n",
      "3          NaN    1.2.2.1    1.2.2   \n",
      "4          NaN  1.2.2.1_1    1.2.2   \n",
      "..         ...        ...      ...   \n",
      "206        NaN   16.2.2.5   16.2.2   \n",
      "207        NaN   16.9.1.1   16.9.1   \n",
      "208        NaN  17.18.2.1  17.18.2   \n",
      "209        NaN  17.18.3.1  17.18.3   \n",
      "210        NaN   17.19.2b  17.19.2   \n",
      "\n",
      "    Proporción de la población que vive por debajo del umbral nacional de pobreza, desglosada por sexo y edad  \\\n",
      "0    Proporción de la población que vive por debajo...                                                          \n",
      "1    Proporción de la población que vive por debajo...                                                          \n",
      "2    Proporción de la población que vive por debajo...                                                          \n",
      "3    Proporción de hombres, mujeres y niños de toda...                                                          \n",
      "4    Proporción de hombres, mujeres y niños de toda...                                                          \n",
      "..                                                 ...                                                          \n",
      "206  Número de víctimas de la trata de personas por...                                                          \n",
      "207  Proporción de niños menores de 5 años cuyo nac...                                                          \n",
      "208  Número de países cuya legislación nacional sob...                                                          \n",
      "209  Número de países que cuentan con un plan estad...                                                          \n",
      "210  Proportion of countries that (a) have conducte...                                                          \n",
      "\n",
      "    Proportion of population living below the national poverty line, by sex and age  \\\n",
      "0    Proportion of population living below the nati...                                \n",
      "1    Proportion of population living below the nati...                                \n",
      "2    Proportion of population living below the nati...                                \n",
      "3    Proportion of men, women and children of all a...                                \n",
      "4    Proportion of men, women and children of all a...                                \n",
      "..                                                 ...                                \n",
      "206  Number of victims of human trafficking per 100...                                \n",
      "207  Proportion of children under 5 years of age wh...                                \n",
      "208  Number of countries that have national statist...                                \n",
      "209  Number of countries with a national statistica...                                \n",
      "210  Proporción de países que a) han realizado al m...                                \n",
      "\n",
      "    Unnamed: 7  \n",
      "0          NaN  \n",
      "1          NaN  \n",
      "2          NaN  \n",
      "3          NaN  \n",
      "4          NaN  \n",
      "..         ...  \n",
      "206        NaN  \n",
      "207        NaN  \n",
      "208        NaN  \n",
      "209        NaN  \n",
      "210        NaN  \n",
      "\n",
      "[211 rows x 8 columns]\n"
     ]
    }
   ],
   "source": [
    "print(series)"
   ]
  },
  {
   "cell_type": "code",
   "execution_count": null,
   "id": "195b3ee5",
   "metadata": {},
   "outputs": [],
   "source": []
  },
  {
   "cell_type": "code",
   "execution_count": null,
   "id": "9b4b98ff",
   "metadata": {},
   "outputs": [],
   "source": []
  }
 ],
 "metadata": {
  "kernelspec": {
   "display_name": "Python 3 (ipykernel)",
   "language": "python",
   "name": "python3"
  },
  "language_info": {
   "codemirror_mode": {
    "name": "ipython",
    "version": 3
   },
   "file_extension": ".py",
   "mimetype": "text/x-python",
   "name": "python",
   "nbconvert_exporter": "python",
   "pygments_lexer": "ipython3",
   "version": "3.9.12"
  }
 },
 "nbformat": 4,
 "nbformat_minor": 5
}
